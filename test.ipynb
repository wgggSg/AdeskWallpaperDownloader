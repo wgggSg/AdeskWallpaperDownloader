{
 "cells": [
  {
   "cell_type": "code",
   "execution_count": 8,
   "source": [
    "url = r'http://img5.adesk.com/60faa43fe7bce71e1890b134?sign=5821a1314c35c8f9c10fb0b1b4dd28d6&t=60ffc1b0'"
   ],
   "outputs": [],
   "metadata": {}
  },
  {
   "cell_type": "code",
   "execution_count": 9,
   "source": [
    "mark1 = 'imageMogr2'\r\n",
    "mark2 = 'sign'\r\n",
    "flag1 = url.find(mark1)\r\n",
    "flag2 = url.find(mark2)\r\n",
    "print(flag1,flag2)\r\n",
    "process_url = url[:flag1]+url[flag2:]\r\n",
    "print(process_url)"
   ],
   "outputs": [
    {
     "output_type": "stream",
     "name": "stdout",
     "text": [
      "-1 47\n",
      "http://img5.adesk.com/60faa43fe7bce71e1890b134?sign=5821a1314c35c8f9c10fb0b1b4dd28d6&t=60ffc1bsign=5821a1314c35c8f9c10fb0b1b4dd28d6&t=60ffc1b0\n"
     ]
    }
   ],
   "metadata": {}
  },
  {
   "cell_type": "markdown",
   "source": [
    "# yaml"
   ],
   "metadata": {}
  },
  {
   "cell_type": "code",
   "execution_count": 44,
   "source": [
    "import yaml\r\n",
    "import os\r\n",
    "try:\r\n",
    "    from yaml import CLoader as Loader, CDumper as Dumper\r\n",
    "except ImportError:\r\n",
    "    from yaml import Loader, Dumper"
   ],
   "outputs": [],
   "metadata": {}
  },
  {
   "cell_type": "code",
   "execution_count": 45,
   "source": [
    "def get_yaml_data(yaml_file):\r\n",
    "    # 打开yaml文件\r\n",
    "    file = open(yaml_file, 'r', encoding=\"utf-8\")\r\n",
    "    file_data = file.read()\r\n",
    "    data = yaml.load(file_data,Loader=Loader)\r\n",
    "    file.close()\r\n",
    "    return data"
   ],
   "outputs": [],
   "metadata": {}
  },
  {
   "cell_type": "code",
   "execution_count": 46,
   "source": [
    "data = get_yaml_data('config.yaml')\r\n",
    "print(data)"
   ],
   "outputs": [
    {
     "output_type": "stream",
     "name": "stdout",
     "text": [
      "{'category_idx': 0, 'page': 1, 'user-agent': 'Dalvik/2.1.0 (Linux; U; Android 11; GM1910 Build/RKQ1.201022.002)'}\n"
     ]
    }
   ],
   "metadata": {}
  },
  {
   "cell_type": "code",
   "execution_count": 39,
   "source": [
    "def generate_yaml_doc(yaml_file):\r\n",
    "    py_object = {'user-agent': 'Dalvik/2.1.0 (Linux; U; Android 11; GM1910 Build/RKQ1.201022.002)',\r\n",
    "                 'category_idx': 0,\r\n",
    "                 'page': 1}\r\n",
    "    file = open(yaml_file, 'w', encoding='utf-8')\r\n",
    "    yaml.dump(py_object, file)\r\n",
    "    file.close()\r\n",
    "generate_yaml_doc('config.yaml')"
   ],
   "outputs": [],
   "metadata": {}
  },
  {
   "cell_type": "code",
   "execution_count": null,
   "source": [],
   "outputs": [],
   "metadata": {}
  }
 ],
 "metadata": {
  "orig_nbformat": 4,
  "language_info": {
   "name": "python",
   "version": "3.9.5",
   "mimetype": "text/x-python",
   "codemirror_mode": {
    "name": "ipython",
    "version": 3
   },
   "pygments_lexer": "ipython3",
   "nbconvert_exporter": "python",
   "file_extension": ".py"
  },
  "kernelspec": {
   "name": "python3",
   "display_name": "Python 3.9.5 64-bit ('qt6': conda)"
  },
  "interpreter": {
   "hash": "c0591850b0d523968f3ab2c6475b31df125497dc615ea805f29bacba470b47ea"
  }
 },
 "nbformat": 4,
 "nbformat_minor": 2
}